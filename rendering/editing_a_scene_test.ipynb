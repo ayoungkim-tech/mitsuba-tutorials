{
 "cells": [
  {
   "cell_type": "markdown",
   "metadata": {},
   "source": [
    "# Editing a scene"
   ]
  },
  {
   "cell_type": "markdown",
   "metadata": {
    "tags": []
   },
   "source": [
    "## Overview\n",
    "\n",
    "In this tutorial, you will learn how to modify a Mitsuba scene after it has been loaded from a file. You might want to edit a scene before (re-)rendering it for many reasons. Maybe a corner is dim, or an object should be moved a bit to the left. Thankfully we can use the *traverse* mechanism to perform such modifications in Python with Mitsuba 3. As we will see in later tutorials, this mechanism is also essential for inverse rendering applications and more.\n",
    "\n",
    "<div class=\"admonition important alert alert-block alert-success\">\n",
    "\n",
    "🚀 **You will learn how to:**\n",
    "\n",
    "<ul>\n",
    "  <li>List exposed parameters of Mitsuba objects</li>\n",
    "  <li>Edit a scene and update its internal state accordingly</li>\n",
    "</ul>\n",
    "\n",
    "</div>"
   ]
  },
  {
   "cell_type": "markdown",
   "metadata": {},
   "source": [
    "## Loading a scene\n",
    "\n",
    "Following the same steps as in [Mitsuba quickstart tutorial][1], let's import `mitsuba`, set the desired variant and load a scene from an XML file on disk.\n",
    "\n",
    "[1]: https://mitsuba.readthedocs.io/en/latest/src/quickstart/mitsuba_quickstart.html"
   ]
  },
  {
   "cell_type": "code",
   "execution_count": 60,
   "metadata": {},
   "outputs": [],
   "source": [
    "import drjit as dr\n",
    "import mitsuba as mi\n",
    "mi.set_variant('llvm_ad_spectral')\n",
    "\n",
    "scene = mi.load_file(\"../scenes/bunny.xml\")"
   ]
  },
  {
   "cell_type": "markdown",
   "metadata": {},
   "source": [
    "Let's quickly render this scene."
   ]
  },
  {
   "cell_type": "code",
   "execution_count": 61,
   "metadata": {},
   "outputs": [
    {
     "data": {
      "image/png": "[encoded data removed]",
      "text/plain": [
       "<Figure size 640x480 with 1 Axes>"
      ]
     },
     "metadata": {},
     "output_type": "display_data"
    }
   ],
   "source": [
    "original_image = mi.render(scene, spp=128)\n",
    "\n",
    "import matplotlib.pyplot as plt\n",
    "plt.axis('off')\n",
    "plt.imshow(original_image ** (1.0 / 2.2));"
   ]
  },
  {
   "cell_type": "markdown",
   "metadata": {},
   "source": [
    "## Accessing scene parameters\n",
    "\n",
    "Any Mitsuba object can be inspected using the [<code>traverse()</code>][1] function, which returns a instance of [<code>SceneParameters</code>][2]. It has a similar API to Python `dict` and holds all parameters that are exposed by the input object and its children. Therefore, when given a scene as input, this function will return the parameters of all the objects present in the scene.\n",
    "\n",
    "Let's print the paramters available in our teapot scene.\n",
    "\n",
    "[1]: https://mitsuba.readthedocs.io/en/latest/src/api_reference.html#mitsuba.traverse\n",
    "[2]: https://mitsuba.readthedocs.io/en/latest/src/api_reference.html#mitsuba.SceneParameters"
   ]
  },
  {
   "cell_type": "code",
   "execution_count": 62,
   "metadata": {},
   "outputs": [
    {
     "name": "stdout",
     "output_type": "stream",
     "text": [
      "SceneParameters[\n",
      "  ---------------------------------------------------------------------------------------\n",
      "  Name                                Flags    Type           Parent\n",
      "  ---------------------------------------------------------------------------------------\n",
      "  sensor.near_clip                             float          PerspectiveCamera\n",
      "  sensor.far_clip                              float          PerspectiveCamera\n",
      "  sensor.shutter_open                          float          PerspectiveCamera\n",
      "  sensor.shutter_open_time                     float          PerspectiveCamera\n",
      "  sensor.film.size                             ScalarVector2u HDRFilm\n",
      "  sensor.film.crop_size                        ScalarVector2u HDRFilm\n",
      "  sensor.film.crop_offset                      ScalarPoint2u  HDRFilm\n",
      "  sensor.x_fov                        ∂, D     Float          PerspectiveCamera\n",
      "  sensor.principal_point_offset_x     ∂, D     Float          PerspectiveCamera\n",
      "  sensor.principal_point_offset_y     ∂, D     Float          PerspectiveCamera\n",
      "  sensor.to_world                     ∂, D     Transform4f    PerspectiveCamera\n",
      "  bunny.bsdf.reflectance.value        ∂        Color3f        SRGBReflectanceSpectrum\n",
      "  bunny.silhouette_sampling_weight             float          PLYMesh\n",
      "  bunny.faces                                  UInt           PLYMesh\n",
      "  bunny.vertex_positions              ∂, D     Float          PLYMesh\n",
      "  bunny.vertex_normals                ∂, D     Float          PLYMesh\n",
      "  bunny.vertex_texcoords              ∂        Float          PLYMesh\n",
      "  light1.sampling_weight                       float          PointLight\n",
      "  light1.position                              Point3f        PointLight\n",
      "  light1.intensity.value              ∂        Color3f        D65Spectrum\n",
      "  light1.intensity.d65.range                   ScalarVector2f RegularSpectrum\n",
      "  light1.intensity.d65.values         ∂        Float          RegularSpectrum\n",
      "  light2.sampling_weight                       float          PointLight\n",
      "  light2.position                              Point3f        PointLight\n",
      "  light2.intensity.value              ∂        Color3f        D65Spectrum\n",
      "  light2.intensity.d65.range                   ScalarVector2f RegularSpectrum\n",
      "  light2.intensity.d65.values         ∂        Float          RegularSpectrum\n",
      "]\n"
     ]
    }
   ],
   "source": [
    "params = mi.traverse(scene)\n",
    "print(params)"
   ]
  },
  {
   "cell_type": "markdown",
   "metadata": {},
   "source": [
    "As you can see, the first level of our scene graph has 4 objects: \n",
    "\n",
    "- the camera (`sensor`)\n",
    "- the teapot mesh (`teapot`)\n",
    "- two light sources (`light1` and `light2`). \n",
    "\n",
    "Some of those objects have nested child objects, like `teapot.bsdf`.\n",
    "\n",
    "Names like *teapot* are defined in the `id` field in the XML file. Parameters such as `teapot.vertex_positions` or `sensor.far_clip` are documented in their respective parent's plugin documentation (see [PLYMesh][1] and [PerspectiveCamera][2]). The plugin documentation lists which parameters are exposed, as well as all input parameters it takes in the XML file.\n",
    "\n",
    "If you wish to modifiy a plugin's parameter that is not exposed with `traverse`, you still have the option to modify the XML file directly. `traverse` is merely a convenience function to edit scene objects in-place.\n",
    "\n",
    "Individual scene parameters can be accessed with the `__getitem__` operator, providing the `key` corresponding to the parameter. Let's print some scene parameter values.\n",
    "\n",
    "[1]: https://mitsuba.readthedocs.io/en/latest/src/generated/plugins_shapes.html#ply-stanford-triangle-format-mesh-loader-ply\n",
    "[2]: https://mitsuba.readthedocs.io/en/latest/src/generated/plugins_sensors.html#perspective-pinhole-camera-perspective"
   ]
  },
  {
   "cell_type": "code",
   "execution_count": 63,
   "metadata": {},
   "outputs": [
    {
     "name": "stdout",
     "output_type": "stream",
     "text": [
      "sensor.near_clip:              0.009999999776482582\n",
      "bunny.bsdf.reflectance.value: [[7.97091e-05, -0.091831, 26.3534]]\n",
      "light1.intensity.value:        [[0, 0, 0]]\n"
     ]
    }
   ],
   "source": [
    "print('sensor.near_clip:             ',  params['sensor.near_clip'])\n",
    "print('bunny.bsdf.reflectance.value:',  params['bunny.bsdf.reflectance.value'])\n",
    "print('light1.intensity.value:       ',  params['light1.intensity.value'])"
   ]
  },
  {
   "cell_type": "markdown",
   "metadata": {},
   "source": [
    "## Edit the scene"
   ]
  },
  {
   "cell_type": "markdown",
   "metadata": {},
   "source": [
    "Similarly to a Python `dict`, parameters can be modified in-place using the `__setitem__` operator. However, it is necessary to call the `SceneParameters.update` method to properly apply the desired changes.\n",
    "\n",
    "Some objects need to be notified if the children have been updated. For instance, a change to the vertex position buffer of a mesh will trigger the recomputation of the Embree/Optix BHV.\n",
    "\n",
    "Internally, the `SceneParameters` object will record every update written to it.\n",
    "Using `SceneParameters.update` will propagate all updates through the dependency graph, and perform all necessary updates to the parent objects."
   ]
  },
  {
   "cell_type": "code",
   "execution_count": 64,
   "metadata": {},
   "outputs": [],
   "source": [
    "# Give a red tint to light1 and a green tint to light2\n",
    "params['light1.intensity.value'] *= [1.5, 0.2, 0.2]\n",
    "params['light2.intensity.value'] *= [0.2, 1.5, 0.2]\n",
    "\n",
    "# Apply updates\n",
    "params.update();"
   ]
  },
  {
   "cell_type": "markdown",
   "metadata": {},
   "source": [
    "Mesh editing is also possible but requires specifying the layout of the stored data. See [transformation toolbox][1] and [mesh manipulation][2] for more geometry and mesh operations.\n",
    "\n",
    "[1]: https://mitsuba.readthedocs.io/en/latest/src/how_to_guides/mesh_io_and_manipulation.html\n",
    "[2]: https://mitsuba.readthedocs.io/en/latest/src/how_to_guides/image_io_and_manipulation.html"
   ]
  },
  {
   "cell_type": "code",
   "execution_count": 65,
   "metadata": {},
   "outputs": [],
   "source": [
    "# Translate the bunny a little bit\n",
    "V = dr.unravel(mi.Point3f, params['bunny.vertex_positions'])\n",
    "V.z += 0.5\n",
    "params['bunny.vertex_positions'] = dr.ravel(V)\n",
    "\n",
    "# Apply changes\n",
    "params.update();"
   ]
  },
  {
   "cell_type": "markdown",
   "metadata": {},
   "source": [
    "After rendering the scene again, we can easily compare the rendered images using `matplotlib`. "
   ]
  },
  {
   "cell_type": "code",
   "execution_count": 66,
   "metadata": {
    "nbsphinx-thumbnail": {},
    "tags": []
   },
   "outputs": [
    {
     "data": {
      "image/png": "[encoded data removed]",
      "text/plain": [
       "<Figure size 1000x1000 with 2 Axes>"
      ]
     },
     "metadata": {},
     "output_type": "display_data"
    }
   ],
   "source": [
    "modified_image = mi.render(scene, spp=128)\n",
    "fig = plt.figure(figsize=(10, 10))\n",
    "fig.add_subplot(1,2,1).imshow(original_image); plt.axis('off'); plt.title('original')\n",
    "fig.add_subplot(1,2,2).imshow(modified_image); plt.axis('off'); plt.title('modified');"
   ]
  },
  {
   "cell_type": "markdown",
   "metadata": {},
   "source": [
    "## See also\n",
    "\n",
    "- [<code>mitsuba.traverse()</code>](https://mitsuba.readthedocs.io/en/latest/src/api_reference.html#mitsuba.traverse)\n",
    "- [<code>mitsuba.SceneParameters</code>](https://mitsuba.readthedocs.io/en/latest/src/api_reference.html##mitsuba.SceneParameters)"
   ]
  }
 ],
 "metadata": {
  "celltoolbar": "Edit Metadata",
  "file_extension": ".py",
  "kernelspec": {
   "display_name": "Python 3",
   "language": "python",
   "name": "python3"
  },
  "language_info": {
   "codemirror_mode": {
    "name": "ipython",
    "version": 3
   },
   "file_extension": ".py",
   "mimetype": "text/x-python",
   "name": "python",
   "nbconvert_exporter": "python",
   "pygments_lexer": "ipython3",
   "version": "3.12.3"
  },
  "metadata": {
   "interpreter": {
    "hash": "31f2aee4e71d21fbe5cf8b01ff0e069b9275f58929596ceb00d14d90e3e16cd6"
   }
  },
  "mimetype": "text/x-python",
  "name": "python",
  "npconvert_exporter": "python",
  "pygments_lexer": "ipython3",
  "version": 3
 },
 "nbformat": 4,
 "nbformat_minor": 4
}
