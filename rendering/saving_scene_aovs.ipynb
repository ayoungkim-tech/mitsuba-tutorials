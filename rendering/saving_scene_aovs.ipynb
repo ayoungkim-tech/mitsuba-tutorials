{
 "cells": [
  {
   "cell_type": "markdown",
   "metadata": {},
   "source": [
    "# Editing a scene"
   ]
  },
  {
   "cell_type": "markdown",
   "metadata": {
    "tags": []
   },
   "source": [
    "## Overview\n",
    "\n",
    "In this tutorial, you will learn how to modify a Mitsuba scene after it has been loaded from a file. You might want to edit a scene before (re-)rendering it for many reasons. Maybe a corner is dim, or an object should be moved a bit to the left. Thankfully we can use the *traverse* mechanism to perform such modifications in Python with Mitsuba 3. As we will see in later tutorials, this mechanism is also essential for inverse rendering applications and more.\n",
    "\n",
    "<div class=\"admonition important alert alert-block alert-success\">\n",
    "\n",
    "🚀 **You will learn how to:**\n",
    "\n",
    "<ul>\n",
    "  <li>List exposed parameters of Mitsuba objects</li>\n",
    "  <li>Edit a scene and update its internal state accordingly</li>\n",
    "</ul>\n",
    "\n",
    "</div>"
   ]
  },
  {
   "cell_type": "markdown",
   "metadata": {},
   "source": [
    "## Loading a scene\n",
    "\n",
    "Following the same steps as in [Mitsuba quickstart tutorial][1], let's import `mitsuba`, set the desired variant and load a scene from an XML file on disk.\n",
    "\n",
    "[1]: https://mitsuba.readthedocs.io/en/latest/src/quickstart/mitsuba_quickstart.html"
   ]
  },
  {
   "cell_type": "code",
   "execution_count": 1,
   "metadata": {},
   "outputs": [
    {
     "name": "stdout",
     "output_type": "stream",
     "text": [
      ">>>>>>>>> NEW AOVIntegrator VERSION >>>>>>>>>>>>>\n",
      "\u001b[31m2025-08-12 14:25:29 WARN  [ply.h:367] \"dragon_remeshed.ply\": attributes without postfix are not handled for now: attribute \"nx\" ignored.\n",
      "\u001b[0m\u001b[31m2025-08-12 14:25:29 WARN  [ply.h:367] \"dragon_remeshed.ply\": attributes without postfix are not handled for now: attribute \"ny\" ignored.\n",
      "\u001b[0m\u001b[31m2025-08-12 14:25:29 WARN  [ply.h:367] \"dragon_remeshed.ply\": attributes without postfix are not handled for now: attribute \"nz\" ignored.\n",
      "\u001b[0m"
     ]
    }
   ],
   "source": [
    "import drjit as dr\n",
    "import mitsuba as mi\n",
    "\n",
    "mi.set_variant('llvm_ad_spectral')\n",
    "\n",
    "scene = mi.load_file(\"../scenes/bunny_and_dragon.xml\")"
   ]
  },
  {
   "cell_type": "markdown",
   "metadata": {},
   "source": [
    "Let's quickly render this scene."
   ]
  },
  {
   "cell_type": "code",
   "execution_count": 2,
   "metadata": {},
   "outputs": [
    {
     "name": "stdout",
     "output_type": "stream",
     "text": [
      "# of spectrum channels: default 4 raw data 4\n",
      "Bitmap[\n",
      "  pixel_format = multichannel,\n",
      "  component_format = float32,\n",
      "  size = [80, 64],\n",
      "  srgb_gamma = 0,\n",
      "  struct = Struct<100>[\n",
      "    float32 R; // @0, premultiplied alpha\n",
      "    float32 G; // @4, premultiplied alpha\n",
      "    float32 B; // @8, premultiplied alpha\n",
      "    float32 image.R; // @12, premultiplied alpha\n",
      "    float32 image.G; // @16, premultiplied alpha\n",
      "    float32 image.B; // @20, premultiplied alpha\n",
      "    float32 image.A; // @24, premultiplied alpha\n",
      "    float32 rgb_albedo.R; // @28, premultiplied alpha\n",
      "    float32 rgb_albedo.G; // @32, premultiplied alpha\n",
      "    float32 rgb_albedo.B; // @36, premultiplied alpha\n",
      "    float32 spec_albedo.ch0; // @40, premultiplied alpha\n",
      "    float32 spec_albedo.ch1; // @44, premultiplied alpha\n",
      "    float32 spec_albedo.ch2; // @48, premultiplied alpha\n",
      "    float32 spec_albedo.ch3; // @52, premultiplied alpha\n",
      "    float32 spec_albedo_lambda.ch0; // @56, premultiplied alpha\n",
      "    float32 spec_albedo_lambda.ch1; // @60, premultiplied alpha\n",
      "    float32 spec_albedo_lambda.ch2; // @64, premultiplied alpha\n",
      "    float32 spec_albedo_lambda.ch3; // @68, premultiplied alpha\n",
      "    float32 sh_normal.X; // @72, premultiplied alpha\n",
      "    float32 sh_normal.Y; // @76, premultiplied alpha\n",
      "    float32 sh_normal.Z; // @80, premultiplied alpha\n",
      "    float32 depth.T; // @84, premultiplied alpha\n",
      "    float32 position.X; // @88, premultiplied alpha\n",
      "    float32 position.Y; // @92, premultiplied alpha\n",
      "    float32 position.Z; // @96, premultiplied alpha\n",
      "  ],\n",
      "  data = [ 500 KiB of image data ]\n",
      "]\n"
     ]
    }
   ],
   "source": [
    "original_image = mi.render(scene, spp=128)\n",
    "\n",
    "# Get the film\n",
    "film = scene.sensors()[0].film()\n",
    "\n",
    "# Convert to RGB automatically via bitmap() (which includes spectrum → RGB)\n",
    "bitmap = film.bitmap(raw=False)\n",
    "print(bitmap)"
   ]
  },
  {
   "cell_type": "markdown",
   "metadata": {},
   "source": [
    "## Arbitrary Output Variables integrators (AOVs)\n",
    " Mistuba offers tutorials related to [<code>AOV</code>][1]. The following function is defined for seperating different AOV and save them in corresponding .exr file.\n",
    "\n",
    " ### Extract spectral albedo from the scene\n",
    "\n",
    " TO DO: CUSTOM AOV INTEGRATOR SUBCLASS FOR SPECTRAL ALBEDO (src/integrators/aov.cpp) + ADD SAVING CODE OF IT\n",
    "\n",
    "[1]: https://mitsuba.readthedocs.io/en/stable/src/generated/plugins_integrators.html#arbitrary-output-variables-integrator-aov"
   ]
  },
  {
   "cell_type": "markdown",
   "metadata": {},
   "source": [
    "### Save AOVs in EXR format"
   ]
  },
  {
   "cell_type": "code",
   "execution_count": 3,
   "metadata": {},
   "outputs": [],
   "source": [
    "import numpy as np\n",
    "import matplotlib.pyplot as plt\n",
    "\n",
    "def show_aov(aov, title, index):\n",
    "    global _axes\n",
    "\n",
    "    ax = _axes[index]\n",
    "    ax.imshow(np.clip(aov, 0.0, 1.0))\n",
    "    ax.set_title(title)\n",
    "    ax.axis('off')\n",
    "\n",
    "def save_all_aovs(bitmap):\n",
    "    \"\"\"Save spectral albedo, RGB albedo, shading normal, depth, and world position as separate EXR files.\"\"\"\n",
    "    res = dict(bitmap.split())\n",
    "\n",
    "    # --- Save RGB albedo ---\n",
    "    albedo_rgb = res['rgb_albedo'] \n",
    "    albedo_rgb.write(\"results/albedo-rgb.exr\")\n",
    "    show_aov(albedo_rgb, \"RGB Albedo\", 0)\n",
    "\n",
    "    # --- Save Spectral albedo: 4 Hero Wavelengths ---\n",
    "    albedo_spec = res['spec_albedo'] \n",
    "    albedo_spec.write(\"results/albedo-spec.exr\")\n",
    "\n",
    "    # --- Save Spectral albedo's corresponding wavelengths ---\n",
    "    albedo_spec_wl = res['spec_albedo_lambda'] \n",
    "    albedo_spec_wl.write(\"results/albedo-spec_wl.exr\")\n",
    "\n",
    "    # --- Save shading normal ---\n",
    "    sh_normal = res['sh_normal']\n",
    "    sh_normal.write(\"results/sh_normal.exr\")\n",
    "    show_aov(sh_normal, \"Shading Normal\", 1)\n",
    "\n",
    "    # --- Save position ---\n",
    "    position = res['position']\n",
    "    position.write(\"results/world-pos.exr\")\n",
    "    show_aov(position, \"Position\", 2)\n",
    "\n",
    "     # --- Save path traced image ---\n",
    "    image = res['image']\n",
    "    image.write(\"results/color.exr\")\n",
    "    show_aov(image, \"Path Traced Image\", 3)"
   ]
  },
  {
   "cell_type": "code",
   "execution_count": 4,
   "metadata": {},
   "outputs": [
    {
     "name": "stdout",
     "output_type": "stream",
     "text": [
      "Channels in bitmap: ['R', 'G', 'B', 'image.R', 'image.G', 'image.B', 'image.A', 'rgb_albedo.R', 'rgb_albedo.G', 'rgb_albedo.B', 'spec_albedo.ch0', 'spec_albedo.ch1', 'spec_albedo.ch2', 'spec_albedo.ch3', 'spec_albedo_lambda.ch0', 'spec_albedo_lambda.ch1', 'spec_albedo_lambda.ch2', 'spec_albedo_lambda.ch3', 'sh_normal.X', 'sh_normal.Y', 'sh_normal.Z', 'depth.T', 'position.X', 'position.Y', 'position.Z']\n"
     ]
    },
    {
     "data": {
      "image/png": "[encoded data removed]",
      "text/plain": [
       "<Figure size 2000x400 with 4 Axes>"
      ]
     },
     "metadata": {},
     "output_type": "display_data"
    }
   ],
   "source": [
    "# Extract channel names\n",
    "channel_names = [field.name for field in bitmap.struct_()]\n",
    "print(\"Channels in bitmap:\", channel_names)\n",
    "\n",
    "# Global variables\n",
    "global _fig, _axes\n",
    "_fig, _axes = plt.subplots(1, 4, figsize=(20, 4))\n",
    "\n",
    "save_all_aovs(bitmap)"
   ]
  },
  {
   "cell_type": "markdown",
   "metadata": {},
   "source": [
    "## Accessing scene parameters\n",
    "\n",
    "Any Mitsuba object can be inspected using the [<code>traverse()</code>][1] function, which returns a instance of [<code>SceneParameters</code>][2]. It has a similar API to Python `dict` and holds all parameters that are exposed by the input object and its children. Therefore, when given a scene as input, this function will return the parameters of all the objects present in the scene.\n",
    "\n",
    "Let's print the paramters available in our teapot scene.\n",
    "\n",
    "[1]: https://mitsuba.readthedocs.io/en/latest/src/api_reference.html#mitsuba.traverse\n",
    "[2]: https://mitsuba.readthedocs.io/en/latest/src/api_reference.html#mitsuba.SceneParameters"
   ]
  },
  {
   "cell_type": "code",
   "execution_count": 5,
   "metadata": {},
   "outputs": [
    {
     "name": "stdout",
     "output_type": "stream",
     "text": [
      "SceneParameters[\n",
      "  -------------------------------------------------------------------------------------------------\n",
      "  Name                                          Flags    Type              Parent\n",
      "  -------------------------------------------------------------------------------------------------\n",
      "  allow_thread_reordering                                bool              Scene\n",
      "  sensor.near_clip                                       float             PerspectiveCamera\n",
      "  sensor.far_clip                                        float             PerspectiveCamera\n",
      "  sensor.shutter_open                                    float             PerspectiveCamera\n",
      "  sensor.shutter_open_time                               float             PerspectiveCamera\n",
      "  sensor.film.size                                       ScalarVector2u    HDRFilm\n",
      "  sensor.film.crop_size                                  ScalarVector2u    HDRFilm\n",
      "  sensor.film.crop_offset                                ScalarPoint2u     HDRFilm\n",
      "  sensor.x_fov                                           Float             PerspectiveCamera\n",
      "  sensor.principal_point_offset_x                        Float             PerspectiveCamera\n",
      "  sensor.principal_point_offset_y                        Float             PerspectiveCamera\n",
      "  sensor.to_world                                        AffineTransform4f PerspectiveCamera\n",
      "  material1.eta                                          float             SmoothPlastic\n",
      "  material1.diffuse_reflectance.wavelengths     ∂        Float             IrregularSpectrum\n",
      "  material1.diffuse_reflectance.values          ∂        Float             IrregularSpectrum\n",
      "  material2.reflectance.wavelengths             ∂        Float             IrregularSpectrum\n",
      "  material2.reflectance.values                  ∂        Float             IrregularSpectrum\n",
      "  object_139258006388864.sampling_weight                 float             ConstantBackgroundEmitter\n",
      "  object_139258006388864.radiance.value         ∂        Color3f           D65Spectrum\n",
      "  object_139258006388864.radiance.d65.range              ScalarVector2f    RegularSpectrum\n",
      "  object_139258006388864.radiance.d65.values    ∂        Float             RegularSpectrum\n",
      "  dragon.silhouette_sampling_weight                      float             PLYMesh\n",
      "  dragon.faces                                           UInt              PLYMesh\n",
      "  dragon.vertex_positions                       ∂, D     Float             PLYMesh\n",
      "  dragon.vertex_normals                         ∂, D     Float             PLYMesh\n",
      "  dragon.vertex_texcoords                       ∂        Float             PLYMesh\n",
      "  bunny.silhouette_sampling_weight                       float             PLYMesh\n",
      "  bunny.faces                                            UInt              PLYMesh\n",
      "  bunny.vertex_positions                        ∂, D     Float             PLYMesh\n",
      "  bunny.vertex_normals                          ∂, D     Float             PLYMesh\n",
      "  bunny.vertex_texcoords                        ∂        Float             PLYMesh\n",
      "]\n"
     ]
    }
   ],
   "source": [
    "params = mi.traverse(scene)\n",
    "print(params)"
   ]
  }
 ],
 "metadata": {
  "celltoolbar": "Edit Metadata",
  "file_extension": ".py",
  "kernelspec": {
   "display_name": "mitsuba310",
   "language": "python",
   "name": "python3"
  },
  "language_info": {
   "codemirror_mode": {
    "name": "ipython",
    "version": 3
   },
   "file_extension": ".py",
   "mimetype": "text/x-python",
   "name": "python",
   "nbconvert_exporter": "python",
   "pygments_lexer": "ipython3",
   "version": "3.10.14"
  },
  "metadata": {
   "interpreter": {
    "hash": "31f2aee4e71d21fbe5cf8b01ff0e069b9275f58929596ceb00d14d90e3e16cd6"
   }
  },
  "mimetype": "text/x-python",
  "name": "python",
  "npconvert_exporter": "python",
  "pygments_lexer": "ipython3",
  "version": 3
 },
 "nbformat": 4,
 "nbformat_minor": 4
}
