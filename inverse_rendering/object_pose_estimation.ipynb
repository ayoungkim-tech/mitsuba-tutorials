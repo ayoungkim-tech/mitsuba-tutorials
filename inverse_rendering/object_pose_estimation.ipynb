{
 "cells": [
  {
   "cell_type": "markdown",
   "metadata": {},
   "source": [
    "# Object pose estimation"
   ]
  },
  {
   "cell_type": "markdown",
   "metadata": {
    "jp-MarkdownHeadingCollapsed": true,
    "tags": []
   },
   "source": [
    "## Overview\n",
    "\n",
    "In this tutorial, we will show how to optimize the pose of an object while correctly accounting for the visibility discontinuities. We are going to optimize several latent variables that control the translation and rotation of the object.\n",
    "\n",
    "In differentiable rendering, we aim to evaluate the derivative of a pixel intensity integral with respect to a scene parameter $\\pi$ as follows:\n",
    "\n",
    "\\begin{equation}\n",
    "\\partial_\\pi I(\\pi) = \\partial_\\pi \\int_P f(\\textbf{x}, \\pi) ~ d\\textbf{x}\n",
    "\\end{equation}\n",
    "\n",
    "where $\\textbf{x}$ is a light path in the path space $P$.\n",
    "\n",
    "When the function $f(\\cdot)$ is continuous w.r.t. $\\pi$, we can move the derivative into the integral and then apply Monte Carlo integration. Under this assumption, differentiating the rendering process via automatic differentiation, as in the previous tutorials, is correct.\n",
    "\n",
    "However, if $f(\\cdot)$ has discontinuities w.r.t. $\\pi$, direct application of automatic differentiation is not correct anymore, as it omits an integral term given by the [Reynolds transport theorem](https://en.wikipedia.org/wiki/Reynolds_transport_theorem). This needs to be considered when differentiating shape-related parameters (e.g., position), as the discontinuities in the visiblity function (the silhouette of the object) are then dependent on the differentiated parameter.\n",
    "\n",
    "In the last years, several works tried to address this issue (e.g., <cite data-cite=\"Li2018\">Li et al. (2018)</cite>, <cite data-cite=\"Zhang2020PSDR\">Zhang et al. (2020)</cite>, <cite data-cite=\"Loubet2019Reparameterizing\">Loubet et al. (2019)</cite>, <cite data-cite=\"Bangaru2020\">Bangaru et al. (2020)</cite>, <cite data-cite=\"Zhang2023Projective\">Zhang et al. (2023)</cite>, ...). Mitsuba provides dedicated integrators implementing the \"*projective sampling*\"-based approach (<cite data-cite=\"Zhang2023Projective\">Zhang et al. (2023)</cite>).\n",
    "\n",
    "- [<code>direct_projective</code>][1]: projective sampling direct illumination integrator\n",
    "- [<code>prb_projective</code>][2]: projective sampling wth Path Replay Backpropagation (PRB) integrator\n",
    "\n",
    "In this tutorial, we will optimize the position and rotation of a mesh in order to match a target rendering. To keep things simple, we will use the `direct_projective` integrator.\n",
    "You will learn more about this integrator in the following tutorials.\n",
    "\n",
    "\n",
    "<div class=\"admonition important alert alert-block alert-success\">\n",
    "\n",
    "🚀 **You will learn how to:**\n",
    "    \n",
    "<ul>\n",
    "  <li>Perform an optimization with discontinuity-aware methods</li>\n",
    "  <li>Optimize latent variables to control the motion of an object</li>\n",
    "</ul>\n",
    "    \n",
    "</div>\n",
    "\n",
    "[1]: https://mitsuba.readthedocs.io/en/latest/src/generated/plugins_integrators.html#direct-illumination-projective-sampling-direct-projective\n",
    "[2]: https://mitsuba.readthedocs.io/en/latest/src/generated/plugins_integrators.html#projective-sampling-path-replay-backpropagation-prb-prb-projective"
   ]
  },
  {
   "cell_type": "markdown",
   "metadata": {},
   "source": [
    "## Setup\n",
    "\n",
    "As always, let's import `drjit` and `mitsuba` and set a differentiation-aware variant."
   ]
  },
  {
   "cell_type": "code",
   "execution_count": 1,
   "metadata": {},
   "outputs": [],
   "source": [
    "import drjit as dr\n",
    "import mitsuba as mi\n",
    "\n",
    "mi.set_variant('cuda_ad_rgb')"
   ]
  },
  {
   "cell_type": "markdown",
   "metadata": {},
   "source": [
    "## `direct_projective` and scene construction\n",
    "\n",
    "We will rely on the `direct_projective` integrator for this tutorial to properly handle the visibility discontinuities in our differentiable simulation. In primal rendering, this integrator is identical to the `direct` integrator."
   ]
  },
  {
   "cell_type": "code",
   "execution_count": 2,
   "metadata": {},
   "outputs": [],
   "source": [
    "integrator = {\n",
    "    'type': 'direct_projective',\n",
    "}"
   ]
  },
  {
   "cell_type": "markdown",
   "metadata": {},
   "source": [
    "We create a simple scene with a bunny placed in front of a gray wall, illuminated by a spherical light."
   ]
  },
  {
   "cell_type": "code",
   "execution_count": 3,
   "metadata": {},
   "outputs": [],
   "source": [
    "from mitsuba.scalar_rgb import Transform4f as T\n",
    "\n",
    "scene = mi.load_dict({\n",
    "    'type': 'scene',\n",
    "    'integrator': integrator,\n",
    "    'sensor':  {\n",
    "        'type': 'perspective',\n",
    "        'to_world': T.look_at(\n",
    "                        origin=(0, 0, 2),\n",
    "                        target=(0, 0, 0),\n",
    "                        up=(0, 1, 0)\n",
    "                    ),\n",
    "        'fov': 60,\n",
    "        'film': {\n",
    "            'type': 'hdrfilm',\n",
    "            'width': 64,\n",
    "            'height': 64,\n",
    "            'rfilter': { 'type': 'gaussian' },\n",
    "            'sample_border': True\n",
    "        },\n",
    "    },\n",
    "    'wall': {\n",
    "        'type': 'obj',\n",
    "        'filename': '../scenes/meshes/rectangle.obj',\n",
    "        'to_world': T.translate([0, 0, -2]).scale(2.0),\n",
    "        'face_normals': True,\n",
    "        'bsdf': {\n",
    "            'type': 'diffuse',\n",
    "            'reflectance': { 'type': 'rgb', 'value': (0.5, 0.5, 0.5) },\n",
    "        }\n",
    "    },\n",
    "    'bunny': {\n",
    "        'type': 'ply',\n",
    "        'filename': '../scenes/meshes/bunny.ply',\n",
    "        'to_world': T.scale(6.5),\n",
    "        'bsdf': {\n",
    "            'type': 'diffuse',\n",
    "            'reflectance': { 'type': 'rgb', 'value': (0.3, 0.3, 0.75) },\n",
    "        },\n",
    "    },\n",
    "    'light': {\n",
    "        'type': 'obj',\n",
    "        'filename': '../scenes/meshes/sphere.obj',\n",
    "        'emitter': {\n",
    "            'type': 'area',\n",
    "            'radiance': {'type': 'rgb', 'value': [1e3, 1e3, 1e3]}\n",
    "        },\n",
    "        'to_world': T.translate([2.5, 2.5, 7.0]).scale(0.25)\n",
    "    }\n",
    "})"
   ]
  },
  {
   "cell_type": "markdown",
   "metadata": {},
   "source": [
    "## Reference image\n",
    "\n",
    "Next we generate the target rendering. We will later modify the bunny's position and rotation to set the initial optimization state."
   ]
  },
  {
   "cell_type": "code",
   "execution_count": 4,
   "metadata": {
    "tags": []
   },
   "outputs": [
    {
     "data": {
      "text/html": [
       "<img src=\"data:image/png;base64, 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\"width=\"250vm\" />"
      ],
      "text/plain": [
       "Bitmap[\n",
       "  pixel_format = rgb,\n",
       "  component_format = uint8,\n",
       "  size = [64, 64],\n",
       "  srgb_gamma = 1,\n",
       "  struct = Struct<3>[\n",
       "    uint8 R; // @0, normalized, gamma, premultiplied alpha\n",
       "    uint8 G; // @1, normalized, gamma, premultiplied alpha\n",
       "    uint8 B; // @2, normalized, gamma, premultiplied alpha\n",
       "  ],\n",
       "  data = [ 12 KiB of image data ]\n",
       "]"
      ]
     },
     "execution_count": 4,
     "metadata": {},
     "output_type": "execute_result"
    }
   ],
   "source": [
    "img_ref = mi.render(scene, seed=0, spp=1024)\n",
    "\n",
    "mi.util.convert_to_bitmap(img_ref)"
   ]
  },
  {
   "cell_type": "markdown",
   "metadata": {},
   "source": [
    "## Optimizer and latent variables\n",
    "\n",
    "As done in previous tutorial, we access the scene parameters using the `traverse()` mechanism. We then store a copy of the initial vertex positions. Those will be used later to compute the new vertex positions at every iteration, always applying a different transformation on the same base shape. \n",
    "\n",
    "Since the vertex positions in `Mesh` are stored in a linear buffer (e.g., `x_1, y_1, z_1, x_2, y_2, z_2, ...`), we use the `dr.unravel()` routine to unflatten that array into a `Point3f` array."
   ]
  },
  {
   "cell_type": "code",
   "execution_count": 5,
   "metadata": {},
   "outputs": [],
   "source": [
    "params = mi.traverse(scene)\n",
    "initial_vertex_positions = dr.unravel(mi.Point3f, params['bunny.vertex_positions'])"
   ]
  },
  {
   "cell_type": "markdown",
   "metadata": {},
   "source": [
    "While it would be possible to optimize the vertex positions of the bunny independently, in this example we are only going to optimize a translation and rotation parameter. This drastically constrains the optimization process, which helps with convergence.\n",
    "\n",
    "Therefore, we instantiate an optimizer and assign two variables to it: `angle` and `trans`."
   ]
  },
  {
   "cell_type": "code",
   "execution_count": 6,
   "metadata": {},
   "outputs": [],
   "source": [
    "opt = mi.ad.Adam(lr=0.025)\n",
    "opt['angle'] = mi.Float(0.25)\n",
    "opt['trans'] = mi.Point2f(0.1, -0.25)"
   ]
  },
  {
   "cell_type": "markdown",
   "metadata": {},
   "source": [
    "From the optimizer's point of view, those variables are the same as any other variables optimized in the previous tutorials, to the exception that when calling `opt.update()`, the optimizer doesn't know how to propagate their new values to the scene parameters. This has to be done *manually*, and we encapsulate exactly that logic in the function defined below. More detailed explaination on this can be found [here][1].\n",
    "\n",
    "After clamping the optimized variables to a proper range, this function creates a transformation object combining a translation and rotation and applies it to the vertex positions stored previously. It then flattens those new vertex positions before assigning them to the scene parameters.\n",
    "\n",
    "[1]: https://mitsuba.readthedocs.io/en/latest/src/how_to_guides/use_optimizers.html#Optimizing-latent-variables"
   ]
  },
  {
   "cell_type": "code",
   "execution_count": 7,
   "metadata": {},
   "outputs": [],
   "source": [
    "def apply_transformation(params, opt):\n",
    "    opt['trans'] = dr.clamp(opt['trans'], -0.5, 0.5)\n",
    "    opt['angle'] = dr.clamp(opt['angle'], -0.5, 0.5)\n",
    "    \n",
    "    trafo = mi.Transform4f.translate([opt['trans'].x, opt['trans'].y, 0.0]).rotate([0, 1, 0], opt['angle'] * 100.0)\n",
    "    \n",
    "    params['bunny.vertex_positions'] = dr.ravel(trafo @ initial_vertex_positions)\n",
    "    params.update()"
   ]
  },
  {
   "cell_type": "markdown",
   "metadata": {},
   "source": [
    "It is now time to apply our first transformation to get the bunny to its initial state before starting the optimization."
   ]
  },
  {
   "cell_type": "code",
   "execution_count": 8,
   "metadata": {},
   "outputs": [
    {
     "data": {
      "text/html": [
       "<img src=\"data:image/png;base64, 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\"width=\"250vm\" />"
      ],
      "text/plain": [
       "Bitmap[\n",
       "  pixel_format = rgb,\n",
       "  component_format = uint8,\n",
       "  size = [64, 64],\n",
       "  srgb_gamma = 1,\n",
       "  struct = Struct<3>[\n",
       "    uint8 R; // @0, normalized, gamma, premultiplied alpha\n",
       "    uint8 G; // @1, normalized, gamma, premultiplied alpha\n",
       "    uint8 B; // @2, normalized, gamma, premultiplied alpha\n",
       "  ],\n",
       "  data = [ 12 KiB of image data ]\n",
       "]"
      ]
     },
     "execution_count": 8,
     "metadata": {},
     "output_type": "execute_result"
    }
   ],
   "source": [
    "apply_transformation(params, opt)\n",
    "\n",
    "img_init = mi.render(scene, seed=0, spp=1024)\n",
    "\n",
    "mi.util.convert_to_bitmap(img_init)"
   ]
  },
  {
   "cell_type": "markdown",
   "metadata": {},
   "source": [
    "In the following cell we define the hyper parameters controlling the optimization, such as the number of iterations and number of samples per pixels for the differentiable rendering simulation:"
   ]
  },
  {
   "cell_type": "code",
   "execution_count": 9,
   "metadata": {},
   "outputs": [],
   "source": [
    "iteration_count = 50\n",
    "spp = 16"
   ]
  },
  {
   "cell_type": "code",
   "execution_count": 10,
   "metadata": {
    "nbsphinx": "hidden",
    "tags": []
   },
   "outputs": [],
   "source": [
    "# IGNORE THIS: When running under pytest, adjust parameters to reduce computation time\n",
    "import os\n",
    "if 'PYTEST_CURRENT_TEST' in os.environ:\n",
    "    iteration_count = 2\n",
    "    spp = 1"
   ]
  },
  {
   "cell_type": "markdown",
   "metadata": {},
   "source": [
    "The optimization loop below is very similar to the one used in the other tutorials, except that we need to apply the transformation to update the bunny's state and record the relation between the rendered image and the optimized parameters."
   ]
  },
  {
   "cell_type": "code",
   "execution_count": 11,
   "metadata": {},
   "outputs": [
    {
     "name": "stdout",
     "output_type": "stream",
     "text": [
      "Iteration 49: error=0.002856, angle=0.0287, trans=[-0.0071, -0.0043]]\r"
     ]
    }
   ],
   "source": [
    "import time\n",
    "loss_hist = []\n",
    "for it in range(iteration_count):\n",
    "    # Apply the mesh transformation\n",
    "    apply_transformation(params, opt)\n",
    "    \n",
    "    # Perform a differentiable rendering\n",
    "    img = mi.render(scene, params, seed=it, spp=spp)\n",
    "\n",
    "    # Evaluate the objective function\n",
    "    loss = dr.sum(dr.sqr(img - img_ref)) / len(img)\n",
    "    \n",
    "    # Backpropagate through the rendering process\n",
    "    dr.backward(loss)\n",
    "\n",
    "    # Optimizer: take a gradient descent step\n",
    "    opt.step()\n",
    "\n",
    "    loss_hist.append(loss)\n",
    "    print(f\"Iteration {it:02d}: error={loss[0]:6f}, angle={opt['angle'][0]:.4f}, trans=[{opt['trans'].x[0]:.4f}, {opt['trans'].y[0]:.4f}]\", end='\\r')"
   ]
  },
  {
   "cell_type": "markdown",
   "metadata": {},
   "source": [
    "## Visualizing the results\n",
    "\n",
    "Finally, let's visualize the results and plot the loss over iterations"
   ]
  },
  {
   "cell_type": "code",
   "execution_count": 12,
   "metadata": {
    "nbsphinx-thumbnail": {},
    "tags": []
   },
   "outputs": [
    {
     "data": {
      "image/png": "[encoded data removed]",
      "text/plain": [
       "<Figure size 720x720 with 4 Axes>"
      ]
     },
     "metadata": {
      "needs_background": "light"
     },
     "output_type": "display_data"
    }
   ],
   "source": [
    "from matplotlib import pyplot as plt\n",
    "\n",
    "fig, axs = plt.subplots(2, 2, figsize=(10, 10))\n",
    "\n",
    "axs[0][0].plot(loss_hist)\n",
    "axs[0][0].set_xlabel('iteration'); \n",
    "axs[0][0].set_ylabel('Loss'); \n",
    "axs[0][0].set_title('Parameter error plot');\n",
    "\n",
    "axs[0][1].imshow(mi.util.convert_to_bitmap(img_init))\n",
    "axs[0][1].axis('off')\n",
    "axs[0][1].set_title('Initial Image')\n",
    "\n",
    "axs[1][0].imshow(mi.util.convert_to_bitmap(mi.render(scene, spp=1024)))\n",
    "axs[1][0].axis('off')\n",
    "axs[1][0].set_title('Optimized image')\n",
    "\n",
    "axs[1][1].imshow(mi.util.convert_to_bitmap(img_ref))\n",
    "axs[1][1].axis('off')\n",
    "axs[1][1].set_title('Reference Image');"
   ]
  },
  {
   "cell_type": "markdown",
   "metadata": {},
   "source": [
    "## See also\n",
    "\n",
    "- [Detailed look at Optimizer](https://mitsuba.readthedocs.io/en/latest/src/how_to_guides/use_optimizers.html)\n",
    "- [<code>mitsuba.ad.Optimizer</code>](https://mitsuba.readthedocs.io/en/latest/src/api_reference.html#mitsuba.ad.Optimizer)\n",
    "- [<code>prb_projective</code> plugin](https://mitsuba.readthedocs.io/en/latest/src/generated/plugins_integrators.html#projective-sampling-path-replay-backpropagation-prb-prb-projective)\n",
    "- [<code>direct_projective</code> plugin](https://mitsuba.readthedocs.io/en/latest/src/generated/plugins_integrators.html#direct-illumination-projective-sampling-direct-projective)"
   ]
  }
 ],
 "metadata": {
  "kernelspec": {
   "display_name": "Python 3 (ipykernel)",
   "language": "python",
   "name": "python3"
  },
  "language_info": {
   "codemirror_mode": {
    "name": "ipython",
    "version": 3
   },
   "file_extension": ".py",
   "mimetype": "text/x-python",
   "name": "python",
   "nbconvert_exporter": "python",
   "pygments_lexer": "ipython3",
   "version": "3.9.12"
  },
  "vscode": {
   "interpreter": {
    "hash": "524ef5c892e16adde62d9febd56e921248026795a369fc4d8cb46b781ffa4996"
   }
  }
 },
 "nbformat": 4,
 "nbformat_minor": 4
}
